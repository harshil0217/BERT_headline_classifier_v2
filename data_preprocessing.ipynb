{
 "cells": [
  {
   "cell_type": "code",
   "execution_count": 1,
   "metadata": {},
   "outputs": [
    {
     "name": "stderr",
     "output_type": "stream",
     "text": [
      "2024-08-06 00:27:36.275515: I tensorflow/core/util/port.cc:113] oneDNN custom operations are on. You may see slightly different numerical results due to floating-point round-off errors from different computation orders. To turn them off, set the environment variable `TF_ENABLE_ONEDNN_OPTS=0`.\n",
      "2024-08-06 00:27:36.510238: E external/local_xla/xla/stream_executor/cuda/cuda_fft.cc:479] Unable to register cuFFT factory: Attempting to register factory for plugin cuFFT when one has already been registered\n",
      "2024-08-06 00:27:36.556789: E external/local_xla/xla/stream_executor/cuda/cuda_dnn.cc:10575] Unable to register cuDNN factory: Attempting to register factory for plugin cuDNN when one has already been registered\n",
      "2024-08-06 00:27:36.557159: E external/local_xla/xla/stream_executor/cuda/cuda_blas.cc:1442] Unable to register cuBLAS factory: Attempting to register factory for plugin cuBLAS when one has already been registered\n",
      "2024-08-06 00:27:36.668355: I tensorflow/core/platform/cpu_feature_guard.cc:210] This TensorFlow binary is optimized to use available CPU instructions in performance-critical operations.\n",
      "To enable the following instructions: AVX2 AVX512F AVX512_VNNI FMA, in other operations, rebuild TensorFlow with the appropriate compiler flags.\n",
      "2024-08-06 00:27:38.267184: W tensorflow/compiler/tf2tensorrt/utils/py_utils.cc:38] TF-TRT Warning: Could not find TensorRT\n"
     ]
    }
   ],
   "source": [
    "import pandas as pd\n",
    "from imblearn.under_sampling import RandomUnderSampler\n",
    "import numpy as np\n",
    "from sklearn.model_selection import train_test_split\n",
    "import tensorflow_hub as hub\n",
    "import tensorflow_text as text\n",
    "import pickle"
   ]
  },
  {
   "cell_type": "code",
   "execution_count": 2,
   "metadata": {},
   "outputs": [],
   "source": [
    "#import data\n",
    "headlines_annotated = pd.read_csv(\"./data/headlines_annotated.tsv\", sep=\"\\t\")"
   ]
  },
  {
   "cell_type": "code",
   "execution_count": 3,
   "metadata": {},
   "outputs": [],
   "source": [
    "#select only relevant columns\n",
    "headlines_annotated = headlines_annotated[['headline', 'dominant_emotion']]"
   ]
  },
  {
   "cell_type": "code",
   "execution_count": 4,
   "metadata": {},
   "outputs": [
    {
     "data": {
      "text/html": [
       "<div>\n",
       "<style scoped>\n",
       "    .dataframe tbody tr th:only-of-type {\n",
       "        vertical-align: middle;\n",
       "    }\n",
       "\n",
       "    .dataframe tbody tr th {\n",
       "        vertical-align: top;\n",
       "    }\n",
       "\n",
       "    .dataframe thead th {\n",
       "        text-align: right;\n",
       "    }\n",
       "</style>\n",
       "<table border=\"1\" class=\"dataframe\">\n",
       "  <thead>\n",
       "    <tr style=\"text-align: right;\">\n",
       "      <th></th>\n",
       "      <th>headline</th>\n",
       "      <th>dominant_emotion</th>\n",
       "    </tr>\n",
       "  </thead>\n",
       "  <tbody>\n",
       "    <tr>\n",
       "      <th>0</th>\n",
       "      <td>Cops in One Village Have Been Convicted of 70 ...</td>\n",
       "      <td>anger</td>\n",
       "    </tr>\n",
       "    <tr>\n",
       "      <th>1</th>\n",
       "      <td>DIY penis enlargements are a 'nationwide probl...</td>\n",
       "      <td>negative_surprise</td>\n",
       "    </tr>\n",
       "    <tr>\n",
       "      <th>2</th>\n",
       "      <td>Dam breaking: New Epstein accuser comes forward</td>\n",
       "      <td>anger</td>\n",
       "    </tr>\n",
       "    <tr>\n",
       "      <th>3</th>\n",
       "      <td>David Beckham gets six-month driving ban for u...</td>\n",
       "      <td>negative_surprise</td>\n",
       "    </tr>\n",
       "    <tr>\n",
       "      <th>4</th>\n",
       "      <td>Dead sea turtle found with spear through head ...</td>\n",
       "      <td>sadness</td>\n",
       "    </tr>\n",
       "    <tr>\n",
       "      <th>...</th>\n",
       "      <td>...</td>\n",
       "      <td>...</td>\n",
       "    </tr>\n",
       "    <tr>\n",
       "      <th>4995</th>\n",
       "      <td>‘NOW do abortion. We’ll wait.’ Ilhan Omar doub...</td>\n",
       "      <td>negative_surprise</td>\n",
       "    </tr>\n",
       "    <tr>\n",
       "      <th>4996</th>\n",
       "      <td>‘Triad’ Thugs Use Clubs to Punish Hong Kong’s ...</td>\n",
       "      <td>negative_surprise</td>\n",
       "    </tr>\n",
       "    <tr>\n",
       "      <th>4997</th>\n",
       "      <td>'For real': High school football season begins...</td>\n",
       "      <td>positive_anticipation_including_optimism</td>\n",
       "    </tr>\n",
       "    <tr>\n",
       "      <th>4998</th>\n",
       "      <td>100 years on: the picture that changed our vie...</td>\n",
       "      <td>positive_surprise</td>\n",
       "    </tr>\n",
       "    <tr>\n",
       "      <th>4999</th>\n",
       "      <td>Couple infuriate officials by landing their he...</td>\n",
       "      <td>anger</td>\n",
       "    </tr>\n",
       "  </tbody>\n",
       "</table>\n",
       "<p>5000 rows × 2 columns</p>\n",
       "</div>"
      ],
      "text/plain": [
       "                                               headline  \\\n",
       "0     Cops in One Village Have Been Convicted of 70 ...   \n",
       "1     DIY penis enlargements are a 'nationwide probl...   \n",
       "2       Dam breaking: New Epstein accuser comes forward   \n",
       "3     David Beckham gets six-month driving ban for u...   \n",
       "4     Dead sea turtle found with spear through head ...   \n",
       "...                                                 ...   \n",
       "4995  ‘NOW do abortion. We’ll wait.’ Ilhan Omar doub...   \n",
       "4996  ‘Triad’ Thugs Use Clubs to Punish Hong Kong’s ...   \n",
       "4997  'For real': High school football season begins...   \n",
       "4998  100 years on: the picture that changed our vie...   \n",
       "4999  Couple infuriate officials by landing their he...   \n",
       "\n",
       "                              dominant_emotion  \n",
       "0                                        anger  \n",
       "1                            negative_surprise  \n",
       "2                                        anger  \n",
       "3                            negative_surprise  \n",
       "4                                      sadness  \n",
       "...                                        ...  \n",
       "4995                         negative_surprise  \n",
       "4996                         negative_surprise  \n",
       "4997  positive_anticipation_including_optimism  \n",
       "4998                         positive_surprise  \n",
       "4999                                     anger  \n",
       "\n",
       "[5000 rows x 2 columns]"
      ]
     },
     "execution_count": 4,
     "metadata": {},
     "output_type": "execute_result"
    }
   ],
   "source": [
    "headlines_annotated"
   ]
  },
  {
   "cell_type": "code",
   "execution_count": 5,
   "metadata": {},
   "outputs": [
    {
     "data": {
      "text/plain": [
       "dominant_emotion\n",
       "negative_surprise                            893\n",
       "positive_surprise                            582\n",
       "anger                                        460\n",
       "annoyance                                    426\n",
       "fear                                         419\n",
       "sadness                                      386\n",
       "disgust                                      382\n",
       "negative_anticipation_including_pessimism    323\n",
       "positive_anticipation_including_optimism     319\n",
       "joy                                          264\n",
       "guilt                                        175\n",
       "trust                                        124\n",
       "shame                                        119\n",
       "pride                                         65\n",
       "love_including_like                           63\n",
       "Name: count, dtype: int64"
      ]
     },
     "execution_count": 5,
     "metadata": {},
     "output_type": "execute_result"
    }
   ],
   "source": [
    "headlines_annotated[\"dominant_emotion\"].value_counts()"
   ]
  },
  {
   "cell_type": "code",
   "execution_count": 6,
   "metadata": {},
   "outputs": [
    {
     "data": {
      "text/plain": [
       "dominant_emotion\n",
       "pessimism              1216\n",
       "optimism                901\n",
       "anger                   460\n",
       "annoyance               426\n",
       "fear                    419\n",
       "sadness                 386\n",
       "disgust                 382\n",
       "joy                     264\n",
       "guilt                   175\n",
       "trust                   124\n",
       "shame                   119\n",
       "pride                    65\n",
       "love_including_like      63\n",
       "Name: count, dtype: int64"
      ]
     },
     "execution_count": 6,
     "metadata": {},
     "output_type": "execute_result"
    }
   ],
   "source": [
    "#replace emotions with optimism and pessimism\n",
    "\n",
    "replace_with_optimisim = [\"positive_surprise\", \"positive_anticipation_including_optimism\"]\n",
    "\n",
    "replace_with_pessimism = [\"negative_surprise\", \"negative_anticipation_including_pessimism\"]\n",
    "\n",
    "\n",
    "optimism_dict = {k: \"optimism\" for k in replace_with_optimisim}\n",
    "\n",
    "pessimism_dict = {k: \"pessimism\" for k in replace_with_pessimism}\n",
    "\n",
    "headlines_annotated[\"dominant_emotion\"] = headlines_annotated[\"dominant_emotion\"].replace(optimism_dict)\n",
    "headlines_annotated[\"dominant_emotion\"] = headlines_annotated[\"dominant_emotion\"].replace(pessimism_dict)\n",
    "\n",
    "headlines_annotated[\"dominant_emotion\"].value_counts()"
   ]
  },
  {
   "cell_type": "code",
   "execution_count": 7,
   "metadata": {},
   "outputs": [
    {
     "data": {
      "text/plain": [
       "dominant_emotion\n",
       "pessimism              1216\n",
       "optimism                901\n",
       "anger                   460\n",
       "annoyance               426\n",
       "fear                    419\n",
       "sadness                 386\n",
       "disgust                 382\n",
       "joy                     264\n",
       "guilt                   175\n",
       "trust                   124\n",
       "shame                   119\n",
       "pride                    65\n",
       "love_including_like      63\n",
       "Name: count, dtype: int64"
      ]
     },
     "execution_count": 7,
     "metadata": {},
     "output_type": "execute_result"
    }
   ],
   "source": [
    "#see value counts\n",
    "headlines_annotated[\"dominant_emotion\"].value_counts()"
   ]
  },
  {
   "cell_type": "code",
   "execution_count": 8,
   "metadata": {},
   "outputs": [],
   "source": [
    "#undersample the majority class\n",
    "rus = RandomUnderSampler(random_state=69)\n",
    "X_resampled, y_resampled = rus.fit_resample(headlines_annotated[\"headline\"].values.reshape(-1, 1), headlines_annotated[\"dominant_emotion\"].values)\n"
   ]
  },
  {
   "cell_type": "code",
   "execution_count": 9,
   "metadata": {},
   "outputs": [],
   "source": [
    "#merge the two arrays back into pandas dataframe\n",
    "headlines_resampled = pd.DataFrame(np.hstack((X_resampled, y_resampled.reshape(-1, 1))), columns=[\"headline\", \"dominant_emotion\"])\n"
   ]
  },
  {
   "cell_type": "code",
   "execution_count": null,
   "metadata": {},
   "outputs": [],
   "source": []
  },
  {
   "cell_type": "code",
   "execution_count": 10,
   "metadata": {},
   "outputs": [
    {
     "data": {
      "text/plain": [
       "819"
      ]
     },
     "execution_count": 10,
     "metadata": {},
     "output_type": "execute_result"
    }
   ],
   "source": [
    "#checking the length of X\n",
    "len(X_resampled)"
   ]
  },
  {
   "cell_type": "code",
   "execution_count": null,
   "metadata": {},
   "outputs": [],
   "source": []
  },
  {
   "cell_type": "code",
   "execution_count": 11,
   "metadata": {},
   "outputs": [],
   "source": [
    "#split into training, testing, and validation sets\n",
    "X_train, X_test, y_train, y_test = train_test_split(X_resampled, y_resampled, test_size=0.2, random_state=69)\n",
    "X_train, X_val, y_train, y_val = train_test_split(X_train, y_train, test_size=0.2, random_state=69)"
   ]
  },
  {
   "cell_type": "code",
   "execution_count": 12,
   "metadata": {},
   "outputs": [],
   "source": [
    "#merge the X and ys together\n",
    "train = np.concatenate((X_train, y_train.reshape(-1, 1)), axis=1)\n",
    "test = np.concatenate((X_test, y_test.reshape(-1, 1)), axis=1)\n",
    "val = np.concatenate((X_val, y_val.reshape(-1, 1)), axis=1) "
   ]
  },
  {
   "cell_type": "code",
   "execution_count": 13,
   "metadata": {},
   "outputs": [],
   "source": [
    "#export to csv\n",
    "np.savetxt(\"./data/train.csv\", train, delimiter=\",\", fmt=\"%s\")\n",
    "np.savetxt(\"./data/test.csv\", test, delimiter=\",\", fmt=\"%s\")\n",
    "np.savetxt(\"./data/val.csv\", val, delimiter=\",\", fmt=\"%s\")\n"
   ]
  }
 ],
 "metadata": {
  "kernelspec": {
   "display_name": ".venv",
   "language": "python",
   "name": "python3"
  },
  "language_info": {
   "codemirror_mode": {
    "name": "ipython",
    "version": 3
   },
   "file_extension": ".py",
   "mimetype": "text/x-python",
   "name": "python",
   "nbconvert_exporter": "python",
   "pygments_lexer": "ipython3",
   "version": "3.10.12"
  }
 },
 "nbformat": 4,
 "nbformat_minor": 2
}
